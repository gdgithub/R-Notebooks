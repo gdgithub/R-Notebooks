{
 "cells": [
  {
   "cell_type": "code",
   "execution_count": 1,
   "metadata": {},
   "outputs": [],
   "source": [
    "dirdata <- 'C:\\\\Users\\\\igil\\\\Downloads\\\\'"
   ]
  },
  {
   "cell_type": "code",
   "execution_count": 2,
   "metadata": {},
   "outputs": [],
   "source": [
    "PelicanStores <- read.csv(paste0(dirdata,\"PelicanStores.csv\"), header=T)"
   ]
  },
  {
   "cell_type": "code",
   "execution_count": 3,
   "metadata": {},
   "outputs": [
    {
     "name": "stdout",
     "output_type": "stream",
     "text": [
      "'data.frame':\t100 obs. of  8 variables:\n",
      " $ Customer         : int  1 2 3 4 5 6 7 8 9 10 ...\n",
      " $ Type.of.Customer : Factor w/ 2 levels \"Promotional\",..: 2 1 2 1 2 2 1 2 1 2 ...\n",
      " $ Items            : int  1 1 1 5 2 1 2 1 2 1 ...\n",
      " $ Net.Sales        : num  39.5 102.4 22.5 100.4 54 ...\n",
      " $ Method.of.Payment: Factor w/ 5 levels \"American Express\",..: 2 4 4 4 3 3 4 5 4 4 ...\n",
      " $ Gender           : Factor w/ 2 levels \"Female\",\"Male\": 2 1 1 1 1 1 1 1 1 1 ...\n",
      " $ Marital.Status   : Factor w/ 2 levels \"Married\",\"Single\": 1 1 1 1 1 1 1 1 1 1 ...\n",
      " $ Age              : int  32 36 32 28 34 44 30 40 46 36 ...\n"
     ]
    }
   ],
   "source": [
    "str(PelicanStores)"
   ]
  },
  {
   "cell_type": "code",
   "execution_count": 5,
   "metadata": {},
   "outputs": [
    {
     "data": {
      "text/plain": [
       "\n",
       "Promotional     Regular \n",
       "         70          30 "
      ]
     },
     "metadata": {},
     "output_type": "display_data"
    }
   ],
   "source": [
    "(frecuencias <- table(PelicanStores$Type.of.Customer))"
   ]
  },
  {
   "cell_type": "code",
   "execution_count": 6,
   "metadata": {},
   "outputs": [
    {
     "data": {
      "text/html": [
       "<table>\n",
       "<thead><tr><th scope=col>Var1</th><th scope=col>Freq</th></tr></thead>\n",
       "<tbody>\n",
       "\t<tr><td>Promotional</td><td>70         </td></tr>\n",
       "\t<tr><td>Regular    </td><td>30         </td></tr>\n",
       "</tbody>\n",
       "</table>\n"
      ],
      "text/latex": [
       "\\begin{tabular}{r|ll}\n",
       " Var1 & Freq\\\\\n",
       "\\hline\n",
       "\t Promotional & 70         \\\\\n",
       "\t Regular     & 30         \\\\\n",
       "\\end{tabular}\n"
      ],
      "text/markdown": [
       "\n",
       "Var1 | Freq | \n",
       "|---|---|\n",
       "| Promotional | 70          | \n",
       "| Regular     | 30          | \n",
       "\n",
       "\n"
      ],
      "text/plain": [
       "  Var1        Freq\n",
       "1 Promotional 70  \n",
       "2 Regular     30  "
      ]
     },
     "metadata": {},
     "output_type": "display_data"
    }
   ],
   "source": [
    "(Tabla.Type <-  as.data.frame(frecuencias))"
   ]
  },
  {
   "cell_type": "code",
   "execution_count": 7,
   "metadata": {},
   "outputs": [],
   "source": [
    "names(Tabla.Type) <- c(\"Tipo.Cliente\", \"fj\")"
   ]
  },
  {
   "cell_type": "code",
   "execution_count": 8,
   "metadata": {},
   "outputs": [
    {
     "data": {
      "text/html": [
       "<table>\n",
       "<thead><tr><th scope=col>Tipo.Cliente</th><th scope=col>fj</th></tr></thead>\n",
       "<tbody>\n",
       "\t<tr><td>Promotional</td><td>70         </td></tr>\n",
       "\t<tr><td>Regular    </td><td>30         </td></tr>\n",
       "</tbody>\n",
       "</table>\n"
      ],
      "text/latex": [
       "\\begin{tabular}{r|ll}\n",
       " Tipo.Cliente & fj\\\\\n",
       "\\hline\n",
       "\t Promotional & 70         \\\\\n",
       "\t Regular     & 30         \\\\\n",
       "\\end{tabular}\n"
      ],
      "text/markdown": [
       "\n",
       "Tipo.Cliente | fj | \n",
       "|---|---|\n",
       "| Promotional | 70          | \n",
       "| Regular     | 30          | \n",
       "\n",
       "\n"
      ],
      "text/plain": [
       "  Tipo.Cliente fj\n",
       "1 Promotional  70\n",
       "2 Regular      30"
      ]
     },
     "metadata": {},
     "output_type": "display_data"
    }
   ],
   "source": [
    "Tabla.Type"
   ]
  },
  {
   "cell_type": "code",
   "execution_count": 9,
   "metadata": {},
   "outputs": [],
   "source": [
    "Tabla.Type$hj <- Tabla.Type$fj/sum(Tabla.Type$fj)"
   ]
  },
  {
   "cell_type": "code",
   "execution_count": 10,
   "metadata": {},
   "outputs": [
    {
     "data": {
      "text/html": [
       "<table>\n",
       "<thead><tr><th scope=col>Tipo.Cliente</th><th scope=col>fj</th><th scope=col>hj</th></tr></thead>\n",
       "<tbody>\n",
       "\t<tr><td>Promotional</td><td>70         </td><td>0.7        </td></tr>\n",
       "\t<tr><td>Regular    </td><td>30         </td><td>0.3        </td></tr>\n",
       "</tbody>\n",
       "</table>\n"
      ],
      "text/latex": [
       "\\begin{tabular}{r|lll}\n",
       " Tipo.Cliente & fj & hj\\\\\n",
       "\\hline\n",
       "\t Promotional & 70          & 0.7        \\\\\n",
       "\t Regular     & 30          & 0.3        \\\\\n",
       "\\end{tabular}\n"
      ],
      "text/markdown": [
       "\n",
       "Tipo.Cliente | fj | hj | \n",
       "|---|---|\n",
       "| Promotional | 70          | 0.7         | \n",
       "| Regular     | 30          | 0.3         | \n",
       "\n",
       "\n"
      ],
      "text/plain": [
       "  Tipo.Cliente fj hj \n",
       "1 Promotional  70 0.7\n",
       "2 Regular      30 0.3"
      ]
     },
     "metadata": {},
     "output_type": "display_data"
    }
   ],
   "source": [
    "Tabla.Type"
   ]
  },
  {
   "cell_type": "code",
   "execution_count": 11,
   "metadata": {},
   "outputs": [],
   "source": [
    "counts <- table(PelicanStores$Method.of.Payment)"
   ]
  },
  {
   "cell_type": "code",
   "execution_count": 13,
   "metadata": {},
   "outputs": [
    {
     "data": {
      "image/png": "[encoded data removed]",
      "text/plain": [
       "Plot with title \"Distribucion de los Metodos de Pago\""
      ]
     },
     "metadata": {},
     "output_type": "display_data"
    }
   ],
   "source": [
    "barplot(counts, main = \"Distribucion de los Metodos de Pago\", xlab = \"Metodos de Pago\")"
   ]
  },
  {
   "cell_type": "code",
   "execution_count": 15,
   "metadata": {},
   "outputs": [
    {
     "data": {
      "image/png": "[encoded data removed]",
      "text/plain": [
       "Plot with title \"Distribucion de Tipos de Clientes\""
      ]
     },
     "metadata": {},
     "output_type": "display_data"
    }
   ],
   "source": [
    "pct <- Tabla.Type$fj\n",
    "labels <- paste(unique(Tabla.Type$Tipo.Cliente), paste0(pct,\"%\"), sep=\" \")\n",
    "pie(x = pct, labels = labels, col = rainbow(length(labels)), main = \"Distribucion de Tipos de Clientes\")"
   ]
  },
  {
   "cell_type": "code",
   "execution_count": 16,
   "metadata": {},
   "outputs": [
    {
     "data": {
      "text/html": [
       "<ol class=list-inline>\n",
       "\t<li>0</li>\n",
       "\t<li>2</li>\n",
       "\t<li>4</li>\n",
       "\t<li>6</li>\n",
       "\t<li>8</li>\n",
       "\t<li>10</li>\n",
       "\t<li>12</li>\n",
       "\t<li>14</li>\n",
       "\t<li>16</li>\n",
       "\t<li>18</li>\n",
       "</ol>\n"
      ],
      "text/latex": [
       "\\begin{enumerate*}\n",
       "\\item 0\n",
       "\\item 2\n",
       "\\item 4\n",
       "\\item 6\n",
       "\\item 8\n",
       "\\item 10\n",
       "\\item 12\n",
       "\\item 14\n",
       "\\item 16\n",
       "\\item 18\n",
       "\\end{enumerate*}\n"
      ],
      "text/markdown": [
       "1. 0\n",
       "2. 2\n",
       "3. 4\n",
       "4. 6\n",
       "5. 8\n",
       "6. 10\n",
       "7. 12\n",
       "8. 14\n",
       "9. 16\n",
       "10. 18\n",
       "\n",
       "\n"
      ],
      "text/plain": [
       " [1]  0  2  4  6  8 10 12 14 16 18"
      ]
     },
     "metadata": {},
     "output_type": "display_data"
    },
    {
     "data": {
      "text/html": [
       "<ol class=list-inline>\n",
       "\t<li>1</li>\n",
       "\t<li>3</li>\n",
       "\t<li>5</li>\n",
       "\t<li>7</li>\n",
       "\t<li>9</li>\n",
       "\t<li>11</li>\n",
       "\t<li>13</li>\n",
       "\t<li>15</li>\n",
       "\t<li>17</li>\n",
       "</ol>\n"
      ],
      "text/latex": [
       "\\begin{enumerate*}\n",
       "\\item 1\n",
       "\\item 3\n",
       "\\item 5\n",
       "\\item 7\n",
       "\\item 9\n",
       "\\item 11\n",
       "\\item 13\n",
       "\\item 15\n",
       "\\item 17\n",
       "\\end{enumerate*}\n"
      ],
      "text/markdown": [
       "1. 1\n",
       "2. 3\n",
       "3. 5\n",
       "4. 7\n",
       "5. 9\n",
       "6. 11\n",
       "7. 13\n",
       "8. 15\n",
       "9. 17\n",
       "\n",
       "\n"
      ],
      "text/plain": [
       "[1]  1  3  5  7  9 11 13 15 17"
      ]
     },
     "metadata": {},
     "output_type": "display_data"
    },
    {
     "data": {
      "text/html": [
       "<ol class=list-inline>\n",
       "\t<li>(0,2]</li>\n",
       "\t<li>(0,2]</li>\n",
       "\t<li>(0,2]</li>\n",
       "\t<li>(4,6]</li>\n",
       "\t<li>(0,2]</li>\n",
       "\t<li>(0,2]</li>\n",
       "\t<li>(0,2]</li>\n",
       "\t<li>(0,2]</li>\n",
       "\t<li>(0,2]</li>\n",
       "\t<li>(0,2]</li>\n",
       "\t<li>(0,2]</li>\n",
       "\t<li>(0,2]</li>\n",
       "\t<li>(8,10]</li>\n",
       "\t<li>(0,2]</li>\n",
       "\t<li>(0,2]</li>\n",
       "\t<li>(0,2]</li>\n",
       "\t<li>(2,4]</li>\n",
       "\t<li>(2,4]</li>\n",
       "\t<li>(0,2]</li>\n",
       "\t<li>(4,6]</li>\n",
       "\t<li>(0,2]</li>\n",
       "\t<li>(2,4]</li>\n",
       "\t<li>(6,8]</li>\n",
       "\t<li>(0,2]</li>\n",
       "\t<li>(0,2]</li>\n",
       "\t<li>(0,2]</li>\n",
       "\t<li>(0,2]</li>\n",
       "\t<li>(4,6]</li>\n",
       "\t<li>(2,4]</li>\n",
       "\t<li>(0,2]</li>\n",
       "\t<li>(0,2]</li>\n",
       "\t<li>(0,2]</li>\n",
       "\t<li>(2,4]</li>\n",
       "\t<li>(0,2]</li>\n",
       "\t<li>(4,6]</li>\n",
       "\t<li>(0,2]</li>\n",
       "\t<li>(0,2]</li>\n",
       "\t<li>(4,6]</li>\n",
       "\t<li>(4,6]</li>\n",
       "\t<li>(0,2]</li>\n",
       "\t<li>(12,14]</li>\n",
       "\t<li>(2,4]</li>\n",
       "\t<li>(0,2]</li>\n",
       "\t<li>(0,2]</li>\n",
       "\t<li>(0,2]</li>\n",
       "\t<li>(0,2]</li>\n",
       "\t<li>(0,2]</li>\n",
       "\t<li>(2,4]</li>\n",
       "\t<li>(0,2]</li>\n",
       "\t<li>(8,10]</li>\n",
       "\t<li>(4,6]</li>\n",
       "\t<li>(4,6]</li>\n",
       "\t<li>(0,2]</li>\n",
       "\t<li>(0,2]</li>\n",
       "\t<li>(0,2]</li>\n",
       "\t<li>(2,4]</li>\n",
       "\t<li>(4,6]</li>\n",
       "\t<li>(0,2]</li>\n",
       "\t<li>(2,4]</li>\n",
       "\t<li>(2,4]</li>\n",
       "\t<li>(0,2]</li>\n",
       "\t<li>(2,4]</li>\n",
       "\t<li>(4,6]</li>\n",
       "\t<li>(0,2]</li>\n",
       "\t<li>(0,2]</li>\n",
       "\t<li>(0,2]</li>\n",
       "\t<li>(0,2]</li>\n",
       "\t<li>(4,6]</li>\n",
       "\t<li>(0,2]</li>\n",
       "\t<li>(6,8]</li>\n",
       "\t<li>(4,6]</li>\n",
       "\t<li>(2,4]</li>\n",
       "\t<li>(0,2]</li>\n",
       "\t<li>(0,2]</li>\n",
       "\t<li>(0,2]</li>\n",
       "\t<li>(2,4]</li>\n",
       "\t<li>(0,2]</li>\n",
       "\t<li>(2,4]</li>\n",
       "\t<li>(2,4]</li>\n",
       "\t<li>(0,2]</li>\n",
       "\t<li>(0,2]</li>\n",
       "\t<li>(4,6]</li>\n",
       "\t<li>(2,4]</li>\n",
       "\t<li>(2,4]</li>\n",
       "\t<li>(0,2]</li>\n",
       "\t<li>(0,2]</li>\n",
       "\t<li>(4,6]</li>\n",
       "\t<li>(2,4]</li>\n",
       "\t<li>(0,2]</li>\n",
       "\t<li>(4,6]</li>\n",
       "\t<li>(2,4]</li>\n",
       "\t<li>(0,2]</li>\n",
       "\t<li>(4,6]</li>\n",
       "\t<li>(16,18]</li>\n",
       "\t<li>(2,4]</li>\n",
       "\t<li>(0,2]</li>\n",
       "\t<li>(8,10]</li>\n",
       "\t<li>(8,10]</li>\n",
       "\t<li>(0,2]</li>\n",
       "\t<li>(0,2]</li>\n",
       "</ol>\n",
       "\n",
       "<details>\n",
       "\t<summary style=display:list-item;cursor:pointer>\n",
       "\t\t<strong>Levels</strong>:\n",
       "\t</summary>\n",
       "\t<ol class=list-inline>\n",
       "\t\t<li>'(0,2]'</li>\n",
       "\t\t<li>'(2,4]'</li>\n",
       "\t\t<li>'(4,6]'</li>\n",
       "\t\t<li>'(6,8]'</li>\n",
       "\t\t<li>'(8,10]'</li>\n",
       "\t\t<li>'(10,12]'</li>\n",
       "\t\t<li>'(12,14]'</li>\n",
       "\t\t<li>'(14,16]'</li>\n",
       "\t\t<li>'(16,18]'</li>\n",
       "\t</ol>\n",
       "</details>"
      ],
      "text/latex": [
       "\\begin{enumerate*}\n",
       "\\item (0,2{]}\n",
       "\\item (0,2{]}\n",
       "\\item (0,2{]}\n",
       "\\item (4,6{]}\n",
       "\\item (0,2{]}\n",
       "\\item (0,2{]}\n",
       "\\item (0,2{]}\n",
       "\\item (0,2{]}\n",
       "\\item (0,2{]}\n",
       "\\item (0,2{]}\n",
       "\\item (0,2{]}\n",
       "\\item (0,2{]}\n",
       "\\item (8,10{]}\n",
       "\\item (0,2{]}\n",
       "\\item (0,2{]}\n",
       "\\item (0,2{]}\n",
       "\\item (2,4{]}\n",
       "\\item (2,4{]}\n",
       "\\item (0,2{]}\n",
       "\\item (4,6{]}\n",
       "\\item (0,2{]}\n",
       "\\item (2,4{]}\n",
       "\\item (6,8{]}\n",
       "\\item (0,2{]}\n",
       "\\item (0,2{]}\n",
       "\\item (0,2{]}\n",
       "\\item (0,2{]}\n",
       "\\item (4,6{]}\n",
       "\\item (2,4{]}\n",
       "\\item (0,2{]}\n",
       "\\item (0,2{]}\n",
       "\\item (0,2{]}\n",
       "\\item (2,4{]}\n",
       "\\item (0,2{]}\n",
       "\\item (4,6{]}\n",
       "\\item (0,2{]}\n",
       "\\item (0,2{]}\n",
       "\\item (4,6{]}\n",
       "\\item (4,6{]}\n",
       "\\item (0,2{]}\n",
       "\\item (12,14{]}\n",
       "\\item (2,4{]}\n",
       "\\item (0,2{]}\n",
       "\\item (0,2{]}\n",
       "\\item (0,2{]}\n",
       "\\item (0,2{]}\n",
       "\\item (0,2{]}\n",
       "\\item (2,4{]}\n",
       "\\item (0,2{]}\n",
       "\\item (8,10{]}\n",
       "\\item (4,6{]}\n",
       "\\item (4,6{]}\n",
       "\\item (0,2{]}\n",
       "\\item (0,2{]}\n",
       "\\item (0,2{]}\n",
       "\\item (2,4{]}\n",
       "\\item (4,6{]}\n",
       "\\item (0,2{]}\n",
       "\\item (2,4{]}\n",
       "\\item (2,4{]}\n",
       "\\item (0,2{]}\n",
       "\\item (2,4{]}\n",
       "\\item (4,6{]}\n",
       "\\item (0,2{]}\n",
       "\\item (0,2{]}\n",
       "\\item (0,2{]}\n",
       "\\item (0,2{]}\n",
       "\\item (4,6{]}\n",
       "\\item (0,2{]}\n",
       "\\item (6,8{]}\n",
       "\\item (4,6{]}\n",
       "\\item (2,4{]}\n",
       "\\item (0,2{]}\n",
       "\\item (0,2{]}\n",
       "\\item (0,2{]}\n",
       "\\item (2,4{]}\n",
       "\\item (0,2{]}\n",
       "\\item (2,4{]}\n",
       "\\item (2,4{]}\n",
       "\\item (0,2{]}\n",
       "\\item (0,2{]}\n",
       "\\item (4,6{]}\n",
       "\\item (2,4{]}\n",
       "\\item (2,4{]}\n",
       "\\item (0,2{]}\n",
       "\\item (0,2{]}\n",
       "\\item (4,6{]}\n",
       "\\item (2,4{]}\n",
       "\\item (0,2{]}\n",
       "\\item (4,6{]}\n",
       "\\item (2,4{]}\n",
       "\\item (0,2{]}\n",
       "\\item (4,6{]}\n",
       "\\item (16,18{]}\n",
       "\\item (2,4{]}\n",
       "\\item (0,2{]}\n",
       "\\item (8,10{]}\n",
       "\\item (8,10{]}\n",
       "\\item (0,2{]}\n",
       "\\item (0,2{]}\n",
       "\\end{enumerate*}\n",
       "\n",
       "\\emph{Levels}: \\begin{enumerate*}\n",
       "\\item '(0,2{]}'\n",
       "\\item '(2,4{]}'\n",
       "\\item '(4,6{]}'\n",
       "\\item '(6,8{]}'\n",
       "\\item '(8,10{]}'\n",
       "\\item '(10,12{]}'\n",
       "\\item '(12,14{]}'\n",
       "\\item '(14,16{]}'\n",
       "\\item '(16,18{]}'\n",
       "\\end{enumerate*}\n"
      ],
      "text/markdown": [
       "1. (0,2]\n",
       "2. (0,2]\n",
       "3. (0,2]\n",
       "4. (4,6]\n",
       "5. (0,2]\n",
       "6. (0,2]\n",
       "7. (0,2]\n",
       "8. (0,2]\n",
       "9. (0,2]\n",
       "10. (0,2]\n",
       "11. (0,2]\n",
       "12. (0,2]\n",
       "13. (8,10]\n",
       "14. (0,2]\n",
       "15. (0,2]\n",
       "16. (0,2]\n",
       "17. (2,4]\n",
       "18. (2,4]\n",
       "19. (0,2]\n",
       "20. (4,6]\n",
       "21. (0,2]\n",
       "22. (2,4]\n",
       "23. (6,8]\n",
       "24. (0,2]\n",
       "25. (0,2]\n",
       "26. (0,2]\n",
       "27. (0,2]\n",
       "28. (4,6]\n",
       "29. (2,4]\n",
       "30. (0,2]\n",
       "31. (0,2]\n",
       "32. (0,2]\n",
       "33. (2,4]\n",
       "34. (0,2]\n",
       "35. (4,6]\n",
       "36. (0,2]\n",
       "37. (0,2]\n",
       "38. (4,6]\n",
       "39. (4,6]\n",
       "40. (0,2]\n",
       "41. (12,14]\n",
       "42. (2,4]\n",
       "43. (0,2]\n",
       "44. (0,2]\n",
       "45. (0,2]\n",
       "46. (0,2]\n",
       "47. (0,2]\n",
       "48. (2,4]\n",
       "49. (0,2]\n",
       "50. (8,10]\n",
       "51. (4,6]\n",
       "52. (4,6]\n",
       "53. (0,2]\n",
       "54. (0,2]\n",
       "55. (0,2]\n",
       "56. (2,4]\n",
       "57. (4,6]\n",
       "58. (0,2]\n",
       "59. (2,4]\n",
       "60. (2,4]\n",
       "61. (0,2]\n",
       "62. (2,4]\n",
       "63. (4,6]\n",
       "64. (0,2]\n",
       "65. (0,2]\n",
       "66. (0,2]\n",
       "67. (0,2]\n",
       "68. (4,6]\n",
       "69. (0,2]\n",
       "70. (6,8]\n",
       "71. (4,6]\n",
       "72. (2,4]\n",
       "73. (0,2]\n",
       "74. (0,2]\n",
       "75. (0,2]\n",
       "76. (2,4]\n",
       "77. (0,2]\n",
       "78. (2,4]\n",
       "79. (2,4]\n",
       "80. (0,2]\n",
       "81. (0,2]\n",
       "82. (4,6]\n",
       "83. (2,4]\n",
       "84. (2,4]\n",
       "85. (0,2]\n",
       "86. (0,2]\n",
       "87. (4,6]\n",
       "88. (2,4]\n",
       "89. (0,2]\n",
       "90. (4,6]\n",
       "91. (2,4]\n",
       "92. (0,2]\n",
       "93. (4,6]\n",
       "94. (16,18]\n",
       "95. (2,4]\n",
       "96. (0,2]\n",
       "97. (8,10]\n",
       "98. (8,10]\n",
       "99. (0,2]\n",
       "100. (0,2]\n",
       "\n",
       "\n",
       "\n",
       "**Levels**: 1. '(0,2]'\n",
       "2. '(2,4]'\n",
       "3. '(4,6]'\n",
       "4. '(6,8]'\n",
       "5. '(8,10]'\n",
       "6. '(10,12]'\n",
       "7. '(12,14]'\n",
       "8. '(14,16]'\n",
       "9. '(16,18]'\n",
       "\n",
       "\n"
      ],
      "text/plain": [
       "  [1] (0,2]   (0,2]   (0,2]   (4,6]   (0,2]   (0,2]   (0,2]   (0,2]   (0,2]  \n",
       " [10] (0,2]   (0,2]   (0,2]   (8,10]  (0,2]   (0,2]   (0,2]   (2,4]   (2,4]  \n",
       " [19] (0,2]   (4,6]   (0,2]   (2,4]   (6,8]   (0,2]   (0,2]   (0,2]   (0,2]  \n",
       " [28] (4,6]   (2,4]   (0,2]   (0,2]   (0,2]   (2,4]   (0,2]   (4,6]   (0,2]  \n",
       " [37] (0,2]   (4,6]   (4,6]   (0,2]   (12,14] (2,4]   (0,2]   (0,2]   (0,2]  \n",
       " [46] (0,2]   (0,2]   (2,4]   (0,2]   (8,10]  (4,6]   (4,6]   (0,2]   (0,2]  \n",
       " [55] (0,2]   (2,4]   (4,6]   (0,2]   (2,4]   (2,4]   (0,2]   (2,4]   (4,6]  \n",
       " [64] (0,2]   (0,2]   (0,2]   (0,2]   (4,6]   (0,2]   (6,8]   (4,6]   (2,4]  \n",
       " [73] (0,2]   (0,2]   (0,2]   (2,4]   (0,2]   (2,4]   (2,4]   (0,2]   (0,2]  \n",
       " [82] (4,6]   (2,4]   (2,4]   (0,2]   (0,2]   (4,6]   (2,4]   (0,2]   (4,6]  \n",
       " [91] (2,4]   (0,2]   (4,6]   (16,18] (2,4]   (0,2]   (8,10]  (8,10]  (0,2]  \n",
       "[100] (0,2]  \n",
       "Levels: (0,2] (2,4] (4,6] (6,8] (8,10] (10,12] (12,14] (14,16] (16,18]"
      ]
     },
     "metadata": {},
     "output_type": "display_data"
    },
    {
     "data": {
      "text/plain": [
       "x\n",
       "  (0,2]   (2,4]   (4,6]   (6,8]  (8,10] (10,12] (12,14] (14,16] (16,18] \n",
       "     56      20      16       2       4       0       1       0       1 "
      ]
     },
     "metadata": {},
     "output_type": "display_data"
    },
    {
     "data": {
      "text/html": [
       "<table>\n",
       "<thead><tr><th scope=col>x</th><th scope=col>Freq</th></tr></thead>\n",
       "<tbody>\n",
       "\t<tr><td>(0,2]  </td><td>56     </td></tr>\n",
       "\t<tr><td>(2,4]  </td><td>20     </td></tr>\n",
       "\t<tr><td>(4,6]  </td><td>16     </td></tr>\n",
       "\t<tr><td>(6,8]  </td><td> 2     </td></tr>\n",
       "\t<tr><td>(8,10] </td><td> 4     </td></tr>\n",
       "\t<tr><td>(10,12]</td><td> 0     </td></tr>\n",
       "\t<tr><td>(12,14]</td><td> 1     </td></tr>\n",
       "\t<tr><td>(14,16]</td><td> 0     </td></tr>\n",
       "\t<tr><td>(16,18]</td><td> 1     </td></tr>\n",
       "</tbody>\n",
       "</table>\n"
      ],
      "text/latex": [
       "\\begin{tabular}{r|ll}\n",
       " x & Freq\\\\\n",
       "\\hline\n",
       "\t (0,2{]}   & 56       \\\\\n",
       "\t (2,4{]}   & 20       \\\\\n",
       "\t (4,6{]}   & 16       \\\\\n",
       "\t (6,8{]}   &  2       \\\\\n",
       "\t (8,10{]}  &  4       \\\\\n",
       "\t (10,12{]} &  0       \\\\\n",
       "\t (12,14{]} &  1       \\\\\n",
       "\t (14,16{]} &  0       \\\\\n",
       "\t (16,18{]} &  1       \\\\\n",
       "\\end{tabular}\n"
      ],
      "text/markdown": [
       "\n",
       "x | Freq | \n",
       "|---|---|---|---|---|---|---|---|---|\n",
       "| (0,2]   | 56      | \n",
       "| (2,4]   | 20      | \n",
       "| (4,6]   | 16      | \n",
       "| (6,8]   |  2      | \n",
       "| (8,10]  |  4      | \n",
       "| (10,12] |  0      | \n",
       "| (12,14] |  1      | \n",
       "| (14,16] |  0      | \n",
       "| (16,18] |  1      | \n",
       "\n",
       "\n"
      ],
      "text/plain": [
       "  x       Freq\n",
       "1 (0,2]   56  \n",
       "2 (2,4]   20  \n",
       "3 (4,6]   16  \n",
       "4 (6,8]    2  \n",
       "5 (8,10]   4  \n",
       "6 (10,12]  0  \n",
       "7 (12,14]  1  \n",
       "8 (14,16]  0  \n",
       "9 (16,18]  1  "
      ]
     },
     "metadata": {},
     "output_type": "display_data"
    },
    {
     "data": {
      "text/html": [
       "<table>\n",
       "<thead><tr><th scope=col>Items</th><th scope=col>Frecuencia.Absoluta.NoAc</th><th scope=col>PuntoMedio</th><th scope=col>Frecuencia.Relativa.NoAc</th><th scope=col>Frecuencia.Absoluta.Ac</th><th scope=col>Frecuencia.Relativa.Ac</th></tr></thead>\n",
       "<tbody>\n",
       "\t<tr><td>(0,2]  </td><td>56     </td><td> 1     </td><td>0.56   </td><td> 56    </td><td>0.56   </td></tr>\n",
       "\t<tr><td>(2,4]  </td><td>20     </td><td> 3     </td><td>0.20   </td><td> 76    </td><td>0.76   </td></tr>\n",
       "\t<tr><td>(4,6]  </td><td>16     </td><td> 5     </td><td>0.16   </td><td> 92    </td><td>0.92   </td></tr>\n",
       "\t<tr><td>(6,8]  </td><td> 2     </td><td> 7     </td><td>0.02   </td><td> 94    </td><td>0.94   </td></tr>\n",
       "\t<tr><td>(8,10] </td><td> 4     </td><td> 9     </td><td>0.04   </td><td> 98    </td><td>0.98   </td></tr>\n",
       "\t<tr><td>(10,12]</td><td> 0     </td><td>11     </td><td>0.00   </td><td> 98    </td><td>0.98   </td></tr>\n",
       "\t<tr><td>(12,14]</td><td> 1     </td><td>13     </td><td>0.01   </td><td> 99    </td><td>0.99   </td></tr>\n",
       "\t<tr><td>(14,16]</td><td> 0     </td><td>15     </td><td>0.00   </td><td> 99    </td><td>0.99   </td></tr>\n",
       "\t<tr><td>(16,18]</td><td> 1     </td><td>17     </td><td>0.01   </td><td>100    </td><td>1.00   </td></tr>\n",
       "</tbody>\n",
       "</table>\n"
      ],
      "text/latex": [
       "\\begin{tabular}{r|llllll}\n",
       " Items & Frecuencia.Absoluta.NoAc & PuntoMedio & Frecuencia.Relativa.NoAc & Frecuencia.Absoluta.Ac & Frecuencia.Relativa.Ac\\\\\n",
       "\\hline\n",
       "\t (0,2{]}   & 56        &  1        & 0.56      &  56       & 0.56     \\\\\n",
       "\t (2,4{]}   & 20        &  3        & 0.20      &  76       & 0.76     \\\\\n",
       "\t (4,6{]}   & 16        &  5        & 0.16      &  92       & 0.92     \\\\\n",
       "\t (6,8{]}   &  2        &  7        & 0.02      &  94       & 0.94     \\\\\n",
       "\t (8,10{]}  &  4        &  9        & 0.04      &  98       & 0.98     \\\\\n",
       "\t (10,12{]} &  0        & 11        & 0.00      &  98       & 0.98     \\\\\n",
       "\t (12,14{]} &  1        & 13        & 0.01      &  99       & 0.99     \\\\\n",
       "\t (14,16{]} &  0        & 15        & 0.00      &  99       & 0.99     \\\\\n",
       "\t (16,18{]} &  1        & 17        & 0.01      & 100       & 1.00     \\\\\n",
       "\\end{tabular}\n"
      ],
      "text/markdown": [
       "\n",
       "Items | Frecuencia.Absoluta.NoAc | PuntoMedio | Frecuencia.Relativa.NoAc | Frecuencia.Absoluta.Ac | Frecuencia.Relativa.Ac | \n",
       "|---|---|---|---|---|---|---|---|---|\n",
       "| (0,2]   | 56      |  1      | 0.56    |  56     | 0.56    | \n",
       "| (2,4]   | 20      |  3      | 0.20    |  76     | 0.76    | \n",
       "| (4,6]   | 16      |  5      | 0.16    |  92     | 0.92    | \n",
       "| (6,8]   |  2      |  7      | 0.02    |  94     | 0.94    | \n",
       "| (8,10]  |  4      |  9      | 0.04    |  98     | 0.98    | \n",
       "| (10,12] |  0      | 11      | 0.00    |  98     | 0.98    | \n",
       "| (12,14] |  1      | 13      | 0.01    |  99     | 0.99    | \n",
       "| (14,16] |  0      | 15      | 0.00    |  99     | 0.99    | \n",
       "| (16,18] |  1      | 17      | 0.01    | 100     | 1.00    | \n",
       "\n",
       "\n"
      ],
      "text/plain": [
       "  Items   Frecuencia.Absoluta.NoAc PuntoMedio Frecuencia.Relativa.NoAc\n",
       "1 (0,2]   56                        1         0.56                    \n",
       "2 (2,4]   20                        3         0.20                    \n",
       "3 (4,6]   16                        5         0.16                    \n",
       "4 (6,8]    2                        7         0.02                    \n",
       "5 (8,10]   4                        9         0.04                    \n",
       "6 (10,12]  0                       11         0.00                    \n",
       "7 (12,14]  1                       13         0.01                    \n",
       "8 (14,16]  0                       15         0.00                    \n",
       "9 (16,18]  1                       17         0.01                    \n",
       "  Frecuencia.Absoluta.Ac Frecuencia.Relativa.Ac\n",
       "1  56                    0.56                  \n",
       "2  76                    0.76                  \n",
       "3  92                    0.92                  \n",
       "4  94                    0.94                  \n",
       "5  98                    0.98                  \n",
       "6  98                    0.98                  \n",
       "7  99                    0.99                  \n",
       "8  99                    0.99                  \n",
       "9 100                    1.00                  "
      ]
     },
     "metadata": {},
     "output_type": "display_data"
    }
   ],
   "source": [
    "lic <- 0\n",
    "lsc <- 18\n",
    "anc <- 2\n",
    "(xbreaks <- seq(lic, lsc, anc))\n",
    "(xmid <- seq(lic+anc/2, lsc-anc/2, anc))\n",
    "\n",
    "(x <- cut(PelicanStores$Items,breaks=xbreaks))\n",
    "(y <- table(x))\n",
    "(y <- as.data.frame(y))\n",
    "names(y) <- c(\"Items\", \"Frecuencia.Absoluta.NoAc\")\n",
    "\n",
    "y$PuntoMedio <- xmid\n",
    "\n",
    "y$Frecuencia.Relativa.NoAc <- y$Frecuencia.Absoluta.NoAc/sum(y$Frecuencia.Absoluta.NoAc)\n",
    "y$Frecuencia.Absoluta.Ac <- cumsum(y$Frecuencia.Absoluta.NoAc)\n",
    "y$Frecuencia.Relativa.Ac <- cumsum(y$Frecuencia.Relativa.NoAc)\n",
    "\n",
    "y"
   ]
  },
  {
   "cell_type": "code",
   "execution_count": null,
   "metadata": {},
   "outputs": [],
   "source": []
  }
 ],
 "metadata": {
  "kernelspec": {
   "display_name": "R",
   "language": "R",
   "name": "ir"
  },
  "language_info": {
   "codemirror_mode": "r",
   "file_extension": ".r",
   "mimetype": "text/x-r-source",
   "name": "R",
   "pygments_lexer": "r",
   "version": "3.5.1"
  }
 },
 "nbformat": 4,
 "nbformat_minor": 2
}
